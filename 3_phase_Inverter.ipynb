{
  "nbformat": 4,
  "nbformat_minor": 0,
  "metadata": {
    "colab": {
      "provenance": [],
      "authorship_tag": "ABX9TyN+tMD/7iqWW802Cw+d0YlJ",
      "include_colab_link": true
    },
    "kernelspec": {
      "name": "python3",
      "display_name": "Python 3"
    },
    "language_info": {
      "name": "python"
    }
  },
  "cells": [
    {
      "cell_type": "markdown",
      "metadata": {
        "id": "view-in-github",
        "colab_type": "text"
      },
      "source": [
        "<a href=\"https://colab.research.google.com/github/sunnyiisc/Three-Phase-Inverter-12VDC-to-440VAC-3ph-50Hz/blob/main/3_phase_Inverter.ipynb\" target=\"_parent\"><img src=\"https://colab.research.google.com/assets/colab-badge.svg\" alt=\"Open In Colab\"/></a>"
      ]
    },
    {
      "cell_type": "code",
      "execution_count": 1,
      "metadata": {
        "id": "HF1cE7rg2pCL",
        "colab": {
          "base_uri": "https://localhost:8080/"
        },
        "outputId": "1a341849-fe77-44b9-bd96-c887ca3d9139"
      },
      "outputs": [
        {
          "output_type": "stream",
          "name": "stdout",
          "text": [
            "Hello 3phase Inverter\n"
          ]
        }
      ],
      "source": [
        "print('Hello 3phase Inverter')"
      ]
    }
  ]
}